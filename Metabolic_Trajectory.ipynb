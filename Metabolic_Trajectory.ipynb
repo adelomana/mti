{
 "cells": [
  {
   "cell_type": "code",
   "execution_count": 1,
   "metadata": {
    "cell_id": "3e91a8ab6678448e8a7732eaac32d177",
    "deepnote_cell_type": "code",
    "deepnote_to_be_reexecuted": false,
    "execution_millis": 4874,
    "execution_start": 1688408709524,
    "source_hash": null
   },
   "outputs": [],
   "source": [
    "import numpy, pandas, cobra, seaborn"
   ]
  },
  {
   "cell_type": "code",
   "execution_count": 2,
   "metadata": {
    "cell_id": "70305e8c2eba42919252a674c8aaffee",
    "deepnote_cell_type": "code",
    "deepnote_to_be_reexecuted": false,
    "execution_millis": 545,
    "execution_start": 1688408714419,
    "source_hash": null
   },
   "outputs": [],
   "source": [
    "import sklearn, sklearn.preprocessing, sklearn.decomposition"
   ]
  },
  {
   "cell_type": "code",
   "execution_count": 3,
   "metadata": {
    "cell_id": "f3a9d9bdc396487ebbbaf05f80b4c41a",
    "deepnote_cell_type": "code",
    "deepnote_to_be_reexecuted": false,
    "execution_millis": 21,
    "execution_start": 1688408714976,
    "source_hash": null
   },
   "outputs": [],
   "source": [
    "import matplotlib, matplotlib.pyplot\n",
    "matplotlib.rcParams.update({'font.family':'sans-serif',\n",
    "                            'font.size':20, \n",
    "                            'xtick.labelsize':30, \n",
    "                            'ytick.labelsize':30, \n",
    "                            'figure.figsize':(20, 10), \n",
    "                            'axes.labelsize':40})"
   ]
  },
  {
   "cell_type": "code",
   "execution_count": 4,
   "metadata": {
    "cell_id": "3ad609d9e43f4556aa7ec58d39fd6e1f",
    "deepnote_cell_type": "code",
    "deepnote_to_be_reexecuted": false,
    "execution_millis": 38,
    "execution_start": 1688408714991,
    "source_hash": null
   },
   "outputs": [],
   "source": [
    "def flux_transformer(v):\n",
    "    '''\n",
    "    This function transforms fluxes into log2 scale with three additions:\n",
    "    - zero values are kept.\n",
    "    - values between 0 and 2 are adjusted to fit below one.\n",
    "    - negative fluxes are considered. \n",
    "    '''\n",
    "\n",
    "    def adjusted(v):\n",
    "        new = (numpy.log2(v + 0.125) + 3) / 4\n",
    "        return numpy.min([new, 1])\n",
    "\n",
    "    if v == 0:\n",
    "        vprime = 0\n",
    "    elif v > 0:\n",
    "        if v < 2:\n",
    "            vprime = adjusted(v)\n",
    "        else:\n",
    "            vprime = numpy.log2(v)\n",
    "    elif v < 0:\n",
    "        v = numpy.abs(v)\n",
    "        if v < 2:\n",
    "            vprime = -adjusted(v)\n",
    "        else:\n",
    "            vprime = -numpy.log2(v)\n",
    "    else:\n",
    "        raise ValueError('found value not considered')\n",
    "\n",
    "    return vprime"
   ]
  },
  {
   "cell_type": "markdown",
   "metadata": {
    "cell_id": "1247194107ac410b92d5660b549af7a8",
    "deepnote_cell_type": "markdown"
   },
   "source": [
    "# Load E coli.core model"
   ]
  },
  {
   "cell_type": "code",
   "execution_count": 5,
   "metadata": {
    "cell_id": "303d1a5e767145d7913947f96141d472",
    "deepnote_cell_type": "code",
    "deepnote_to_be_reexecuted": false,
    "execution_millis": 919,
    "execution_start": 1688408715032,
    "source_hash": null
   },
   "outputs": [
    {
     "data": {
      "text/html": [
       "\n",
       "        <table>\n",
       "            <tr>\n",
       "                <td><strong>Name</strong></td>\n",
       "                <td>e_coli_core</td>\n",
       "            </tr><tr>\n",
       "                <td><strong>Memory address</strong></td>\n",
       "                <td>14f7a5220</td>\n",
       "            </tr><tr>\n",
       "                <td><strong>Number of metabolites</strong></td>\n",
       "                <td>72</td>\n",
       "            </tr><tr>\n",
       "                <td><strong>Number of reactions</strong></td>\n",
       "                <td>95</td>\n",
       "            </tr><tr>\n",
       "                <td><strong>Number of genes</strong></td>\n",
       "                <td>137</td>\n",
       "            </tr><tr>\n",
       "                <td><strong>Number of groups</strong></td>\n",
       "                <td>0</td>\n",
       "            </tr><tr>\n",
       "                <td><strong>Objective expression</strong></td>\n",
       "                <td>1.0*Biomass_Ecoli_core - 1.0*Biomass_Ecoli_core_reverse_2cdba</td>\n",
       "            </tr><tr>\n",
       "                <td><strong>Compartments</strong></td>\n",
       "                <td>cytosol, extracellular</td>\n",
       "            </tr>\n",
       "          </table>"
      ],
      "text/plain": [
       "<Model e_coli_core at 0x14f7a5220>"
      ]
     },
     "execution_count": 5,
     "metadata": {},
     "output_type": "execute_result"
    }
   ],
   "source": [
    "model = cobra.io.load_model('textbook')\n",
    "model"
   ]
  },
  {
   "cell_type": "code",
   "execution_count": 6,
   "metadata": {
    "cell_id": "ca9181e736054986809e9fad8b3b82bf",
    "deepnote_cell_type": "code",
    "deepnote_to_be_reexecuted": false,
    "execution_millis": 466,
    "execution_start": 1688408715695,
    "source_hash": null
   },
   "outputs": [
    {
     "data": {
      "text/html": [
       "<h3>Objective</h3><p>1.0 Biomass_Ecoli_core = 0.8739215069684301</p><h4>Uptake</h4><table border=\"1\" class=\"dataframe\">\n",
       "  <thead>\n",
       "    <tr style=\"text-align: right;\">\n",
       "      <th>Metabolite</th>\n",
       "      <th>Reaction</th>\n",
       "      <th>Flux</th>\n",
       "      <th>C-Number</th>\n",
       "      <th>C-Flux</th>\n",
       "    </tr>\n",
       "  </thead>\n",
       "  <tbody>\n",
       "    <tr>\n",
       "      <td>glc__D_e</td>\n",
       "      <td>EX_glc__D_e</td>\n",
       "      <td>10</td>\n",
       "      <td>6</td>\n",
       "      <td>100.00%</td>\n",
       "    </tr>\n",
       "    <tr>\n",
       "      <td>nh4_e</td>\n",
       "      <td>EX_nh4_e</td>\n",
       "      <td>4.765</td>\n",
       "      <td>0</td>\n",
       "      <td>0.00%</td>\n",
       "    </tr>\n",
       "    <tr>\n",
       "      <td>o2_e</td>\n",
       "      <td>EX_o2_e</td>\n",
       "      <td>21.8</td>\n",
       "      <td>0</td>\n",
       "      <td>0.00%</td>\n",
       "    </tr>\n",
       "    <tr>\n",
       "      <td>pi_e</td>\n",
       "      <td>EX_pi_e</td>\n",
       "      <td>3.215</td>\n",
       "      <td>0</td>\n",
       "      <td>0.00%</td>\n",
       "    </tr>\n",
       "  </tbody>\n",
       "</table><h4>Secretion</h4><table border=\"1\" class=\"dataframe\">\n",
       "  <thead>\n",
       "    <tr style=\"text-align: right;\">\n",
       "      <th>Metabolite</th>\n",
       "      <th>Reaction</th>\n",
       "      <th>Flux</th>\n",
       "      <th>C-Number</th>\n",
       "      <th>C-Flux</th>\n",
       "    </tr>\n",
       "  </thead>\n",
       "  <tbody>\n",
       "    <tr>\n",
       "      <td>co2_e</td>\n",
       "      <td>EX_co2_e</td>\n",
       "      <td>-22.81</td>\n",
       "      <td>1</td>\n",
       "      <td>100.00%</td>\n",
       "    </tr>\n",
       "    <tr>\n",
       "      <td>h2o_e</td>\n",
       "      <td>EX_h2o_e</td>\n",
       "      <td>-29.18</td>\n",
       "      <td>0</td>\n",
       "      <td>0.00%</td>\n",
       "    </tr>\n",
       "    <tr>\n",
       "      <td>h_e</td>\n",
       "      <td>EX_h_e</td>\n",
       "      <td>-17.53</td>\n",
       "      <td>0</td>\n",
       "      <td>0.00%</td>\n",
       "    </tr>\n",
       "  </tbody>\n",
       "</table>"
      ],
      "text/plain": [
       "<cobra.summary.model_summary.ModelSummary at 0x14fa1c040>"
      ]
     },
     "execution_count": 6,
     "metadata": {},
     "output_type": "execute_result"
    }
   ],
   "source": [
    "model.summary()"
   ]
  },
  {
   "cell_type": "code",
   "execution_count": 7,
   "metadata": {
    "cell_id": "5f59a8ec1bb843f0bab82449123d89c7",
    "deepnote_cell_type": "code",
    "deepnote_to_be_reexecuted": false,
    "execution_millis": 29,
    "execution_start": 1688408715996,
    "source_hash": null
   },
   "outputs": [
    {
     "name": "stdout",
     "output_type": "stream",
     "text": [
      "0.8739215069684301\n",
      "518.4220855176065\n"
     ]
    }
   ],
   "source": [
    "solution = model.optimize()\n",
    "print(solution.objective_value)\n",
    "\n",
    "solution = cobra.flux_analysis.pfba(model)\n",
    "print(solution.objective_value)"
   ]
  },
  {
   "cell_type": "markdown",
   "metadata": {
    "cell_id": "ad7abc014d13487eba7c8ab5f5563280",
    "deepnote_cell_type": "text-cell-h1",
    "formattedRanges": []
   },
   "source": [
    "# Simulate 100 O2 conditions"
   ]
  },
  {
   "cell_type": "code",
   "execution_count": 8,
   "metadata": {
    "cell_id": "22c17824a6c04188b5b228a9d89a0ada",
    "deepnote_cell_type": "code",
    "deepnote_to_be_reexecuted": false,
    "execution_millis": 111,
    "execution_start": 1688408716072,
    "source_hash": null
   },
   "outputs": [
    {
     "name": "stdout",
     "output_type": "stream",
     "text": [
      "35\n",
      "-21.79949265599875\n",
      "[-22.  -21.9 -21.8 -21.7 -21.6 -21.5 -21.4 -21.3 -21.2 -21.1 -21.  -20.9\n",
      " -20.8 -20.7 -20.6 -20.5 -20.4 -20.3 -20.2 -20.1 -20.  -19.9 -19.8 -19.7\n",
      " -19.6 -19.5 -19.4 -19.3 -19.2 -19.1 -19.  -18.9 -18.8 -18.7 -18.6 -18.5\n",
      " -18.4 -18.3 -18.2 -18.1 -18.  -17.9 -17.8 -17.7 -17.6 -17.5 -17.4 -17.3\n",
      " -17.2 -17.1 -17.  -16.9 -16.8 -16.7 -16.6 -16.5 -16.4 -16.3 -16.2 -16.1\n",
      " -16.  -15.9 -15.8 -15.7 -15.6 -15.5 -15.4 -15.3 -15.2 -15.1 -15.  -14.9\n",
      " -14.8 -14.7 -14.6 -14.5 -14.4 -14.3 -14.2 -14.1 -14.  -13.9 -13.8 -13.7\n",
      " -13.6 -13.5 -13.4 -13.3 -13.2 -13.1 -13.  -12.9 -12.8 -12.7 -12.6 -12.5\n",
      " -12.4 -12.3 -12.2 -12.1 -12.  -11.9 -11.8 -11.7 -11.6 -11.5 -11.4 -11.3\n",
      " -11.2 -11.1 -11.  -10.9 -10.8 -10.7 -10.6 -10.5 -10.4 -10.3 -10.2 -10.1\n",
      " -10.   -9.9  -9.8  -9.7  -9.6  -9.5  -9.4  -9.3  -9.2  -9.1  -9.   -8.9\n",
      "  -8.8  -8.7  -8.6  -8.5  -8.4  -8.3  -8.2  -8.1  -8.   -7.9  -7.8  -7.7\n",
      "  -7.6  -7.5  -7.4  -7.3  -7.2  -7.1  -7.   -6.9  -6.8  -6.7  -6.6  -6.5\n",
      "  -6.4  -6.3  -6.2  -6.1  -6.   -5.9  -5.8  -5.7  -5.6  -5.5  -5.4  -5.3\n",
      "  -5.2  -5.1  -5.   -4.9  -4.8  -4.7  -4.6  -4.5  -4.4  -4.3  -4.2  -4.1\n",
      "  -4.   -3.9  -3.8  -3.7  -3.6  -3.5  -3.4  -3.3  -3.2  -3.1  -3.   -2.9\n",
      "  -2.8  -2.7  -2.6  -2.5  -2.4  -2.3  -2.2  -2.1  -2.   -1.9  -1.8  -1.7\n",
      "  -1.6  -1.5  -1.4  -1.3  -1.2  -1.1  -1.   -0.9  -0.8  -0.7  -0.6  -0.5\n",
      "  -0.4  -0.3  -0.2  -0.1   0. ]\n"
     ]
    }
   ],
   "source": [
    "location = solution.fluxes.index == 'EX_o2_e'\n",
    "o2location = numpy.where(location == True)[0][0]\n",
    "print(o2location)\n",
    "\n",
    "print(solution.fluxes['EX_o2_e'])\n",
    "lower_limit = -22; resolution = 10\n",
    "oxygen_lower_boundaries = numpy.linspace(-22, 0, num=221)  \n",
    "print(oxygen_lower_boundaries)"
   ]
  },
  {
   "cell_type": "code",
   "execution_count": 9,
   "metadata": {
    "cell_id": "50790397ec234b63b560310548444dd5",
    "deepnote_cell_type": "code",
    "deepnote_to_be_reexecuted": false,
    "execution_millis": 84,
    "execution_start": 1688408716116,
    "source_hash": null
   },
   "outputs": [
    {
     "data": {
      "text/plain": [
       "Index(['ACALD', 'ACALDt', 'ACKr', 'ACONTa', 'ACONTb', 'ACt2r', 'ADK1', 'AKGDH',\n",
       "       'AKGt2r', 'ALCD2x', 'ATPM', 'ATPS4r', 'Biomass_Ecoli_core', 'CO2t',\n",
       "       'CS', 'CYTBD', 'D_LACt2', 'ENO', 'ETOHt2r', 'EX_ac_e', 'EX_acald_e',\n",
       "       'EX_akg_e', 'EX_co2_e', 'EX_etoh_e', 'EX_for_e', 'EX_fru_e', 'EX_fum_e',\n",
       "       'EX_glc__D_e', 'EX_gln__L_e', 'EX_glu__L_e', 'EX_h_e', 'EX_h2o_e',\n",
       "       'EX_lac__D_e', 'EX_mal__L_e', 'EX_nh4_e', 'EX_o2_e', 'EX_pi_e',\n",
       "       'EX_pyr_e', 'EX_succ_e', 'FBA', 'FBP', 'FORt2', 'FORti', 'FRD7',\n",
       "       'FRUpts2', 'FUM', 'FUMt2_2', 'G6PDH2r', 'GAPD', 'GLCpts', 'GLNS',\n",
       "       'GLNabc', 'GLUDy', 'GLUN', 'GLUSy', 'GLUt2r', 'GND', 'H2Ot', 'ICDHyr',\n",
       "       'ICL', 'LDH_D', 'MALS', 'MALt2_2', 'MDH', 'ME1', 'ME2', 'NADH16',\n",
       "       'NADTRHD', 'NH4t', 'O2t', 'PDH', 'PFK', 'PFL', 'PGI', 'PGK', 'PGL',\n",
       "       'PGM', 'PIt2r', 'PPC', 'PPCK', 'PPS', 'PTAr', 'PYK', 'PYRt2', 'RPE',\n",
       "       'RPI', 'SUCCt2_2', 'SUCCt3', 'SUCDi', 'SUCOAS', 'TALA', 'THD2', 'TKT1',\n",
       "       'TKT2', 'TPI'],\n",
       "      dtype='object')"
      ]
     },
     "execution_count": 9,
     "metadata": {},
     "output_type": "execute_result"
    }
   ],
   "source": [
    "solution.fluxes.index"
   ]
  },
  {
   "cell_type": "code",
   "execution_count": 10,
   "metadata": {
    "cell_id": "29fd89ccf18f48a392023e8f91056354",
    "deepnote_cell_type": "code",
    "deepnote_to_be_reexecuted": false,
    "execution_millis": 7080,
    "execution_start": 1688408716130,
    "source_hash": null
   },
   "outputs": [],
   "source": [
    "# define storing variables\n",
    "system_fluxes_transformed = []\n",
    "oxygen_fluxes = []\n",
    "biomass_values = []\n",
    "excluded_fluxes = ['Biomass_Ecoli_core', 'EX_o2_e', 'EX_h2o_e', 'H2Ot']\n",
    "\n",
    "for boundary in oxygen_lower_boundaries:\n",
    "\n",
    "    # define new boundary conditions\n",
    "    model.reactions.EX_o2_e.lower_bound = boundary\n",
    "    #print(model.reactions.EX_o2_e.lower_bound, model.reactions.EX_o2_e.upper_bound)\n",
    "\n",
    "    # simulate\n",
    "    solution = cobra.flux_analysis.pfba(model)  \n",
    "\n",
    "    # store biomass values and oxygen fluxes\n",
    "    biomass_values.append(solution.objective_value)\n",
    "    oxygen_fluxes.append(solution.fluxes[o2location])\n",
    "    #print('\\t', solution.objective_value, solution.fluxes[o2location])\n",
    "\n",
    "    # store all fluxes excluding particular ones\n",
    "    storing_fluxes = solution.fluxes.drop(excluded_fluxes)\n",
    "    fluxes_transformed = [flux_transformer(flux_value) for flux_value in storing_fluxes]\n",
    "    system_fluxes_transformed.append(fluxes_transformed)"
   ]
  },
  {
   "cell_type": "markdown",
   "metadata": {
    "cell_id": "a788d4e5291542e2bacfb778ee5a8ebd",
    "deepnote_cell_type": "text-cell-h1",
    "formattedRanges": []
   },
   "source": [
    "# Plot biomass"
   ]
  },
  {
   "cell_type": "code",
   "execution_count": 12,
   "metadata": {
    "cell_id": "de8cb9274e3546daa353fe32d7ca2370",
    "deepnote_cell_type": "code",
    "deepnote_to_be_reexecuted": false,
    "execution_millis": 1917,
    "execution_start": 1688408723108,
    "source_hash": null
   },
   "outputs": [
    {
     "data": {
      "image/png": "[encoded data removed]",
      "text/plain": [
       "<Figure size 2000x1000 with 1 Axes>"
      ]
     },
     "metadata": {},
     "output_type": "display_data"
    }
   ],
   "source": [
    "# plot\n",
    "plotting_colors = []\n",
    "for i in range(len(oxygen_fluxes)):\n",
    "    o = -oxygen_fluxes[i]\n",
    "\n",
    "    if o > 14.6:\n",
    "        the_color = 'tab:red'\n",
    "    elif (o <= 14.6) & (o > 6.8):\n",
    "        the_color = 'tab:orange'\n",
    "    elif (o <= 6.8) & (o > 6.4):\n",
    "        the_color = 'gold'\n",
    "    elif (o <= 6.4) & (o > 4.7):\n",
    "        the_color = 'tab:green'\n",
    "    elif (o <= 4.7) & (o > 3):\n",
    "        the_color = 'skyblue'\n",
    "    elif (o <= 3) & (o >= 0):\n",
    "        the_color = 'tab:purple'\n",
    "    else:\n",
    "        the_color = 'black'\n",
    "\n",
    "    plotting_colors.append(the_color)\n",
    "    \n",
    "    matplotlib.pyplot.plot(oxygen_fluxes[i], biomass_values[i], 'o', \n",
    "    color=the_color, markersize=8, alpha=2/3, mec='None')\n",
    "\n",
    "matplotlib.pyplot.xlabel('Oxygen uptake rate')\n",
    "matplotlib.pyplot.ylabel('Biomass production rate')\n",
    "matplotlib.pyplot.grid(alpha=0.5, ls=':')\n",
    "matplotlib.pyplot.ylim([300, 550])\n",
    "matplotlib.pyplot.tight_layout()\n",
    "\n",
    "#matplotlib.pyplot.show()\n",
    "matplotlib.pyplot.savefig('biomass.svg')"
   ]
  },
  {
   "cell_type": "markdown",
   "metadata": {
    "cell_id": "0b9fe25f39de48878e5a47fa4e6f4ccf",
    "deepnote_cell_type": "markdown"
   },
   "source": [
    "# Plot fluxes"
   ]
  },
  {
   "cell_type": "code",
   "execution_count": null,
   "metadata": {
    "cell_id": "9807c1c5eac940fc8b86a1fff487cc50",
    "deepnote_cell_type": "code",
    "deepnote_to_be_reexecuted": false,
    "execution_millis": 1443,
    "execution_start": 1688408724908,
    "source_hash": null
   },
   "outputs": [],
   "source": [
    "# define data for PCA\n",
    "df = pandas.DataFrame(system_fluxes_transformed, columns=storing_fluxes.index)\n",
    "\n",
    "# scale it\n",
    "scaler = sklearn.preprocessing.StandardScaler()\n",
    "scaled_df = scaler.fit_transform(df)\n",
    "\n",
    "# run PCA\n",
    "pca = sklearn.decomposition.PCA(n_components=2)\n",
    "principalComponents = pca.fit_transform(scaled_df) \n",
    "principalDf = pandas.DataFrame(data=principalComponents, columns = ['PC1', 'PC2'])\n",
    "print('variance explained', pca.explained_variance_ratio_)\n",
    "\n",
    "\n",
    "matplotlib.pyplot.scatter(principalDf['PC1'], principalDf['PC2'],\n",
    "            c=plotting_colors, s=150, alpha=2/3, edgecolors='none')\n",
    "\n",
    "matplotlib.pyplot.xlabel('PC1 ({}% var.)'.format(int(pca.explained_variance_ratio_[0]*100)))\n",
    "matplotlib.pyplot.ylabel('PC2 ({}% var.)'.format(int(pca.explained_variance_ratio_[1]*100)))\n",
    "matplotlib.pyplot.grid(alpha=0.5, ls=':')\n",
    "matplotlib.pyplot.tight_layout()\n",
    "\n",
    "#matplotlib.pyplot.show()\n",
    "matplotlib.pyplot.savefig('pca.svg')"
   ]
  },
  {
   "cell_type": "markdown",
   "metadata": {
    "cell_id": "cf8cd0dbf5a94c2fa838e848225b7278",
    "deepnote_cell_type": "text-cell-h1",
    "formattedRanges": []
   },
   "source": [
    "# Plot flux differences"
   ]
  },
  {
   "cell_type": "code",
   "execution_count": null,
   "metadata": {
    "cell_id": "5341ebece0694eaca5d41c4009fdc7e6",
    "deepnote_cell_type": "code",
    "deepnote_to_be_reexecuted": false,
    "execution_millis": 2225,
    "execution_start": 1688408726128,
    "source_hash": null
   },
   "outputs": [],
   "source": [
    "difference = df.iloc[-1] - df.iloc[0]\n",
    "max_flux = df.abs().max(axis=0)\n",
    "\n",
    "# Coloring based if value is positive or negative at the 100th exploration (max)\n",
    "for i in range(len(difference)):\n",
    "    \n",
    "    if difference[i] != 0:\n",
    "\n",
    "        # define colors\n",
    "        if df.iloc[-1][i] > 0:\n",
    "            the_color = 'tab:red'\n",
    "        elif df.iloc[-1][i] < 0:\n",
    "            the_color = 'tab:blue'\n",
    "        elif df.iloc[-1][i] == 0:\n",
    "            the_color = 'black'\n",
    "        else:\n",
    "            print('we have a problem', value)\n",
    "\n",
    "        # define marker\n",
    "        if (df.iloc[0][i] > 0) & (df.iloc[-1][i] < 0): # a flux that goes from export to import\n",
    "            the_marker = 'v'\n",
    "        elif (df.iloc[0][i] < 0) & (df.iloc[-1][i] > 0): # a flux that goes from import to export\n",
    "            the_marker = '^'\n",
    "        else:\n",
    "            the_marker = 'o'\n",
    "\n",
    "        # define name\n",
    "        flux_name = difference.index[i]\n",
    "\n",
    "        matplotlib.pyplot.plot(difference[i], max_flux[i], color=the_color, alpha=1/3, ms=30, mec='None', marker=the_marker)\n",
    "        matplotlib.pyplot.text(difference[i], max_flux[i], flux_name, fontsize=8, horizontalalignment='center', verticalalignment='center')\n",
    "    \n",
    "\n",
    "# legend\n",
    "legend_elements = [\n",
    "    matplotlib.patches.Patch(facecolor='tab:red', edgecolor='white'),\n",
    "    matplotlib.patches.Patch(facecolor='tab:blue', edgecolor='white'),\n",
    "    matplotlib.patches.Patch(facecolor='0.5', edgecolor='white'),\n",
    "    \n",
    "    matplotlib.lines.Line2D([0], [0], marker='v', color='black', markerfacecolor='white', markersize=16, alpha=2/3, lw=0),\n",
    "    matplotlib.lines.Line2D([0], [0], marker='^', color='black', markerfacecolor='white', markersize=16, alpha=2/3, lw=0),\n",
    "    matplotlib.lines.Line2D([0], [0], marker='o', color='black', markerfacecolor='white', markersize=16, alpha=2/3, lw=0)\n",
    "    ]\n",
    "matplotlib.pyplot.legend(legend_elements, ['J$_n$ > 0', 'J$_n$ < 0', 'J$_n$ = 0', 'R (- | +)', 'R (+ | -)', 'NR'], ncol=2, fontsize=16, loc=3)\n",
    "\n",
    "# close figure\n",
    "\n",
    "# close figure\n",
    "matplotlib.pyplot.xlim(-8.3, 8.3)\n",
    "matplotlib.pyplot.ylim(0, 6)\n",
    "\n",
    "matplotlib.pyplot.xlabel('Flux change [log2 flux]')\n",
    "matplotlib.pyplot.ylabel('Overall max. flux [log2 flux]')\n",
    "matplotlib.pyplot.grid(alpha=0.5, ls=':')\n",
    "matplotlib.pyplot.tight_layout()\n",
    "\n",
    "#matplotlib.pyplot.show()\n",
    "\n",
    "matplotlib.pyplot.savefig('scatter.svg')"
   ]
  },
  {
   "cell_type": "markdown",
   "metadata": {
    "cell_id": "83443602aed54580a7ef6ffba6ef4c14",
    "deepnote_cell_type": "text-cell-p",
    "formattedRanges": []
   },
   "source": [
    "adrian todo 30.06.23. consider removing fluxes that we change, like o2 and biomass too, before doing PCA. Heatmap will be next step. alphas for relevance in scatter plot."
   ]
  },
  {
   "cell_type": "code",
   "execution_count": null,
   "metadata": {
    "cell_id": "0cd1b422795b48d4a1aca9a269b24b0f",
    "deepnote_cell_type": "code",
    "deepnote_to_be_reexecuted": false,
    "execution_millis": 1554,
    "execution_start": 1688408728161,
    "source_hash": null
   },
   "outputs": [],
   "source": [
    "zeroth_exploration_average = numpy.mean(all_fluxes_transformed[0])\n",
    "hundredth_exploration_average = numpy.mean(all_fluxes_transformed[99])\n",
    "\n",
    "print(zeroth_exploration_average)\n",
    "print(hundredth_exploration_average)\n"
   ]
  },
  {
   "cell_type": "code",
   "execution_count": null,
   "metadata": {
    "cell_id": "89e97a845d61479b9f9c1be03af76c85",
    "deepnote_cell_type": "code",
    "deepnote_to_be_reexecuted": true,
    "execution_millis": 381,
    "execution_start": 1688143668772,
    "source_hash": null
   },
   "outputs": [],
   "source": [
    "difference = df.iloc[-1] - df.iloc[0]\n",
    "max_flux = df.abs().max(axis=0)\n",
    "\n",
    "# Coloring based if value is positive or negative at the 100th exploration (max)\n",
    "x = []; y = []; the_colors = []\n",
    "for i in range(len(difference)):\n",
    "    if difference[i] != 0:\n",
    "        x.append(difference[i])\n",
    "        y.append(max_flux[i])\n",
    "\n",
    "        # now colors\n",
    "        if df.iloc[-1][i] > 0:\n",
    "            color = 'tab:red'\n",
    "        elif df.iloc[-1][i] < 0:\n",
    "            color = 'tab:blue'\n",
    "        elif df.iloc[-1][i] == 0:\n",
    "            color = 'black'\n",
    "        else:\n",
    "            print('we have a problem', value)\n",
    "        the_colors.append(color)\n",
    "\n",
    "matplotlib.pyplot.scatter(x, y, c=the_colors, s=400, alpha=2/3)\n",
    "matplotlib.pyplot.xlabel('Difference')\n",
    "matplotlib.pyplot.ylabel('Flux Average')\n",
    "matplotlib.pyplot.grid(alpha=0.5, ls=':')\n",
    "\n",
    "# Conditions for the lines\n",
    "y_up = 1.1 * max_flux.max()\n",
    "x_left = 1.1 * difference.min()\n",
    "x_right = 1.1 * difference.max()\n",
    "\n",
    "# Plot lines\n",
    "lines = [((-1, -1), (1, y_up)), ((x_left, -1), (1, 1)),\n",
    "         ((1, 1), (y_up, 1)), ((-1, x_right), (1, 1))]\n",
    "\n",
    "for l in lines:\n",
    "    matplotlib.pyplot.plot(*l, color='black')\n",
    "\n",
    "# Set limits for lines\n",
    "matplotlib.pyplot.xlim([x_left, x_right])\n",
    "matplotlib.pyplot.ylim([0.9 * max_flux.min(), y_up])\n",
    "\n",
    "matplotlib.pyplot.show()\n",
    "\n"
   ]
  },
  {
   "cell_type": "code",
   "execution_count": null,
   "metadata": {
    "cell_id": "abc5dbc3a97241acac033d377eb7c4ef",
    "deepnote_cell_type": "code",
    "deepnote_to_be_reexecuted": true,
    "execution_millis": 384,
    "execution_start": 1688143669160,
    "source_hash": null
   },
   "outputs": [],
   "source": [
    "#all_fluxes_transformed = [[flux_transformer(v) for v in flux_list] for flux_list in all_fluxes]\n",
    "\n",
    "df_0th_transformed = pandas.DataFrame(all_fluxes_transformed[0], index=[r.id for r in model.reactions]).transpose()\n",
    "df_100th_transformed = pandas.DataFrame(all_fluxes_transformed[-1], index=[r.id for r in model.reactions]).transpose()\n",
    "\n",
    "difference_fluxes_transformed = df_100th_transformed.iloc[0] - df_0th_transformed.iloc[0]\n",
    "\n",
    "df_difference_fluxes_transformed = difference_fluxes_transformed.reset_index()\n",
    "\n",
    "df_difference_fluxes_transformed.columns = ['Flux Name', 'Flux Difference']\n",
    "\n",
    "positive_fluxes = df_difference_fluxes_transformed[df_difference_fluxes_transformed['Flux Difference'] >= 0]\n",
    "negative_fluxes = df_difference_fluxes_transformed[df_difference_fluxes_transformed['Flux Difference'] < 0]\n",
    "\n",
    "abs_flux_changes_transformed = difference_fluxes_transformed.abs()\n",
    "\n",
    "colors = ['blue' if x >= 0 else 'red' for x in difference_fluxes_transformed]\n",
    "\n",
    "fig, ax = matplotlib.pyplot.subplots(figsize = (20, 10))\n",
    "\n",
    "ax.scatter(difference_fluxes_transformed, abs_flux_changes_transformed, c = colors, s = 100)\n",
    "ax.set_xlabel('Difference in Transformed Flux (100th exploration - 0th exploration)')\n",
    "ax.set_ylabel('Flux Change')\n",
    "ax.set_title('Volcano Plot - Transformed Fluxes')\n",
    "ax.grid(True)\n",
    "\n",
    "matplotlib.pyplot.show()\n"
   ]
  },
  {
   "cell_type": "code",
   "execution_count": null,
   "metadata": {
    "cell_id": "d2755f90cdc7491c8be2e72d93a538f8",
    "deepnote_cell_type": "code",
    "deepnote_to_be_reexecuted": true,
    "execution_millis": 33,
    "execution_start": 1688143669547,
    "source_hash": null
   },
   "outputs": [],
   "source": [
    "negative_fluxes"
   ]
  },
  {
   "cell_type": "code",
   "execution_count": null,
   "metadata": {
    "cell_id": "e0835fab1e104fd9a6ec6ed55664b80e",
    "deepnote_cell_type": "code",
    "deepnote_to_be_reexecuted": true,
    "execution_millis": 14,
    "execution_start": 1688143669590,
    "source_hash": null
   },
   "outputs": [],
   "source": [
    "loadings = pandas.DataFrame(pca.components_.T, columns = ['PC1', 'PC2'], index = df.columns)\n",
    "\n",
    "# Rank reactions based on absolute loading, since loading can be negative, \n",
    "# and a large negative value is also influential.\n",
    "loadings['PC1_rank'] = loadings['PC1'].abs().rank(ascending=False)\n",
    "loadings['PC2_rank'] = loadings['PC2'].abs().rank(ascending=False)\n",
    "\n",
    "# Sort by rank\n",
    "loadings_sorted_PC1 = loadings.sort_values(by = 'PC1_rank')\n",
    "loadings_sorted_PC2 = loadings.sort_values(by = 'PC2_rank')\n",
    "\n",
    "print(loadings_sorted_PC1)\n",
    "print(loadings_sorted_PC2)\n"
   ]
  },
  {
   "cell_type": "code",
   "execution_count": null,
   "metadata": {
    "cell_id": "4105b755c3c84bbabf6277efdaa8898f",
    "deepnote_cell_type": "code",
    "deepnote_to_be_reexecuted": true,
    "execution_millis": 3,
    "execution_start": 1688143669644,
    "source_hash": null
   },
   "outputs": [],
   "source": [
    "print(\"Top 20 fluxes for PC1:\")\n",
    "print(loadings_sorted_PC1.head(20))\n",
    "\n",
    "print('____________________________________________________________________________')\n",
    "\n",
    "print(\"\\nTop 20 fluxes for PC2:\")\n",
    "print(loadings_sorted_PC2.head(20))\n"
   ]
  },
  {
   "cell_type": "code",
   "execution_count": null,
   "metadata": {
    "cell_id": "64afc9ef242d4500b4bfde4954c58b7b",
    "deepnote_cell_type": "code",
    "deepnote_to_be_reexecuted": true,
    "execution_millis": 958,
    "execution_start": 1688143669645,
    "source_hash": null
   },
   "outputs": [],
   "source": [
    "top_reactions_PC1 = loadings_sorted_PC1.index[:10].tolist()\n",
    "top_reactions_PC2 = loadings_sorted_PC2.index[:10].tolist()\n",
    "\n",
    "top_reactions = list(set(top_reactions_PC1 + top_reactions_PC2))\n",
    "\n",
    "top_flux_data = df[top_reactions].transpose()\n",
    "\n",
    "g = seaborn.clustermap(top_flux_data, cmap = 'viridis', col_cluster = False, \n",
    "               yticklabels = True, xticklabels = False, figsize = (20, 14))\n",
    "\n",
    "labels = [str(i) if i % 10 == 0 else '' for i in range(1, 101)] \n",
    "\n",
    "g.ax_heatmap.set_xticks(numpy.arange(100))\n",
    "g.ax_heatmap.set_xticklabels(labels, rotation = 90)\n",
    "\n",
    "matplotlib.pyplot.title('Clustermap of the Top 10 Features from Each Principal Component')\n",
    "\n",
    "matplotlib.pyplot.show()\n",
    "#row fluxes\n",
    "#columns would be the 100 simulations\n",
    "#use clustermap from seaborn\n"
   ]
  },
  {
   "cell_type": "code",
   "execution_count": null,
   "metadata": {
    "cell_id": "cbcf52835efe4c74b92dec832b7f9689",
    "deepnote_cell_type": "code",
    "deepnote_to_be_reexecuted": true,
    "execution_millis": 2136,
    "execution_start": 1688143670601,
    "source_hash": null
   },
   "outputs": [],
   "source": [
    "all_flux_data = df.transpose()  \n",
    "\n",
    "g = seaborn.clustermap(all_flux_data, cmap = 'viridis', col_cluster = False, \n",
    "               yticklabels = True, xticklabels = False, figsize = (20, 40))\n",
    "\n",
    "labels = [str(i) if i % 10 == 0 else '' for i in range(1, 101)] \n",
    "\n",
    "g.ax_heatmap.set_xticks(numpy.arange(100))\n",
    "g.ax_heatmap.set_xticklabels(labels, rotation = 90)\n",
    "\n",
    "matplotlib.pyplot.title('Clustermap of All Features')\n",
    "matplotlib.pyplot.show()\n",
    "# Why is the ordering different here?"
   ]
  },
  {
   "cell_type": "code",
   "execution_count": null,
   "metadata": {
    "cell_id": "576e6c49d82a49eb86f63b0475f82534",
    "deepnote_cell_type": "code",
    "deepnote_to_be_reexecuted": true,
    "execution_millis": 14,
    "execution_start": 1688143672732,
    "source_hash": null
   },
   "outputs": [],
   "source": []
  },
  {
   "cell_type": "code",
   "execution_count": null,
   "metadata": {
    "cell_id": "2a4a7c73bfa243c7a9dc140c60047859",
    "deepnote_cell_type": "code",
    "deepnote_to_be_reexecuted": true,
    "execution_millis": 5,
    "execution_start": 1688143672746,
    "source_hash": null
   },
   "outputs": [],
   "source": []
  },
  {
   "cell_type": "code",
   "execution_count": null,
   "metadata": {
    "cell_id": "906555be105343029dfb3a1ccec5d5eb",
    "deepnote_cell_type": "code",
    "deepnote_to_be_reexecuted": true,
    "execution_millis": 5,
    "execution_start": 1688143672749,
    "source_hash": null
   },
   "outputs": [],
   "source": []
  },
  {
   "cell_type": "code",
   "execution_count": null,
   "metadata": {
    "cell_id": "abe80f6814934bf9b4117fe44ef18308",
    "deepnote_cell_type": "code",
    "deepnote_to_be_reexecuted": true,
    "execution_millis": 4,
    "execution_start": 1688143672750,
    "source_hash": null
   },
   "outputs": [],
   "source": []
  },
  {
   "cell_type": "code",
   "execution_count": null,
   "metadata": {
    "cell_id": "a32bd9da9c9448668727208bcbff2376",
    "deepnote_cell_type": "code",
    "deepnote_to_be_reexecuted": true,
    "execution_millis": 8,
    "execution_start": 1688143672753,
    "source_hash": null
   },
   "outputs": [],
   "source": []
  }
 ],
 "metadata": {
  "deepnote": {},
  "deepnote_execution_queue": [],
  "deepnote_notebook_id": "398b0099c5de46e3acb64e636891d537",
  "deepnote_persisted_session": {
   "createdAt": "2023-06-30T17:15:06.446Z"
  },
  "kernelspec": {
   "display_name": "Python 3 (ipykernel)",
   "language": "python",
   "name": "python3"
  },
  "language_info": {
   "codemirror_mode": {
    "name": "ipython",
    "version": 3
   },
   "file_extension": ".py",
   "mimetype": "text/x-python",
   "name": "python",
   "nbconvert_exporter": "python",
   "pygments_lexer": "ipython3",
   "version": "3.9.15"
  }
 },
 "nbformat": 4,
 "nbformat_minor": 4
}
